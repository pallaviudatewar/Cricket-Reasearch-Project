{
  "nbformat": 4,
  "nbformat_minor": 0,
  "metadata": {
    "colab": {
      "name": "Cricket_odi.ipynb",
      "provenance": [],
      "collapsed_sections": []
    },
    "kernelspec": {
      "name": "python3",
      "display_name": "Python 3"
    }
  },
  "cells": [
    {
      "cell_type": "code",
      "metadata": {
        "colab": {
          "base_uri": "https://localhost:8080/"
        },
        "id": "KEgBKsKDp2XN",
        "outputId": "6f83c657-5739-4dc8-e8da-36bdbf6715f1"
      },
      "source": [
        "from google.colab import drive\n",
        "drive.mount('/content/drive')"
      ],
      "execution_count": 485,
      "outputs": [
        {
          "output_type": "stream",
          "text": [
            "Drive already mounted at /content/drive; to attempt to forcibly remount, call drive.mount(\"/content/drive\", force_remount=True).\n"
          ],
          "name": "stdout"
        }
      ]
    },
    {
      "cell_type": "code",
      "metadata": {
        "id": "6jFEeLEhqv4r"
      },
      "source": [
        "import numpy as np\n",
        "import matplotlib.pyplot as plt\n",
        "import pandas as pd"
      ],
      "execution_count": 486,
      "outputs": []
    },
    {
      "cell_type": "code",
      "metadata": {
        "id": "eVkKWgzmrpNV"
      },
      "source": [
        "dataset = pd.read_csv('/content/drive/MyDrive/Colab Notebooks/matches.csv - Sheet1.csv')"
      ],
      "execution_count": 487,
      "outputs": []
    },
    {
      "cell_type": "code",
      "metadata": {
        "colab": {
          "base_uri": "https://localhost:8080/"
        },
        "id": "SPf4z7NFr5mr",
        "outputId": "da60b566-11c0-4a7a-8edf-451324df4a81"
      },
      "source": [
        "dataset.shape"
      ],
      "execution_count": 488,
      "outputs": [
        {
          "output_type": "execute_result",
          "data": {
            "text/plain": [
              "(4037, 9)"
            ]
          },
          "metadata": {
            "tags": []
          },
          "execution_count": 488
        }
      ]
    },
    {
      "cell_type": "code",
      "metadata": {
        "colab": {
          "base_uri": "https://localhost:8080/"
        },
        "id": "Pnm4CNn22Ff-",
        "outputId": "b625ae88-acf7-4167-fec7-84c1ce9cfd23"
      },
      "source": [
        "dataset.isnull().sum()"
      ],
      "execution_count": 489,
      "outputs": [
        {
          "output_type": "execute_result",
          "data": {
            "text/plain": [
              "team1               0\n",
              "team2               0\n",
              "innings1_overs      0\n",
              "innings1_wickets    0\n",
              "innings1_runs       0\n",
              "innings2_overs      0\n",
              "innings2_wickets    0\n",
              "innings2_runs       0\n",
              "year                0\n",
              "dtype: int64"
            ]
          },
          "metadata": {
            "tags": []
          },
          "execution_count": 489
        }
      ]
    },
    {
      "cell_type": "code",
      "metadata": {
        "colab": {
          "base_uri": "https://localhost:8080/",
          "height": 197
        },
        "id": "D5IRGrRJv7UG",
        "outputId": "78a1a3ae-601e-404c-9f39-27be37ff5254"
      },
      "source": [
        "dataset.insert(9, \"result\", np.nan)\n",
        "dataset.head()"
      ],
      "execution_count": 490,
      "outputs": [
        {
          "output_type": "execute_result",
          "data": {
            "text/html": [
              "<div>\n",
              "<style scoped>\n",
              "    .dataframe tbody tr th:only-of-type {\n",
              "        vertical-align: middle;\n",
              "    }\n",
              "\n",
              "    .dataframe tbody tr th {\n",
              "        vertical-align: top;\n",
              "    }\n",
              "\n",
              "    .dataframe thead th {\n",
              "        text-align: right;\n",
              "    }\n",
              "</style>\n",
              "<table border=\"1\" class=\"dataframe\">\n",
              "  <thead>\n",
              "    <tr style=\"text-align: right;\">\n",
              "      <th></th>\n",
              "      <th>team1</th>\n",
              "      <th>team2</th>\n",
              "      <th>innings1_overs</th>\n",
              "      <th>innings1_wickets</th>\n",
              "      <th>innings1_runs</th>\n",
              "      <th>innings2_overs</th>\n",
              "      <th>innings2_wickets</th>\n",
              "      <th>innings2_runs</th>\n",
              "      <th>year</th>\n",
              "      <th>result</th>\n",
              "    </tr>\n",
              "  </thead>\n",
              "  <tbody>\n",
              "    <tr>\n",
              "      <th>0</th>\n",
              "      <td>SRI LANKA</td>\n",
              "      <td>ZIMBABWE</td>\n",
              "      <td>50.0</td>\n",
              "      <td>7</td>\n",
              "      <td>272</td>\n",
              "      <td>47.2</td>\n",
              "      <td>10</td>\n",
              "      <td>213</td>\n",
              "      <td>2001</td>\n",
              "      <td>NaN</td>\n",
              "    </tr>\n",
              "    <tr>\n",
              "      <th>1</th>\n",
              "      <td>NETHERLANDS</td>\n",
              "      <td>CANADA</td>\n",
              "      <td>50.0</td>\n",
              "      <td>7</td>\n",
              "      <td>289</td>\n",
              "      <td>43.0</td>\n",
              "      <td>10</td>\n",
              "      <td>172</td>\n",
              "      <td>2007</td>\n",
              "      <td>NaN</td>\n",
              "    </tr>\n",
              "    <tr>\n",
              "      <th>2</th>\n",
              "      <td>ZIMBABWE</td>\n",
              "      <td>SOUTH AFRICA</td>\n",
              "      <td>50.0</td>\n",
              "      <td>8</td>\n",
              "      <td>174</td>\n",
              "      <td>34.2</td>\n",
              "      <td>1</td>\n",
              "      <td>175</td>\n",
              "      <td>2003</td>\n",
              "      <td>NaN</td>\n",
              "    </tr>\n",
              "    <tr>\n",
              "      <th>3</th>\n",
              "      <td>INDIA</td>\n",
              "      <td>NEW ZEALAND</td>\n",
              "      <td>49.0</td>\n",
              "      <td>10</td>\n",
              "      <td>276</td>\n",
              "      <td>45.2</td>\n",
              "      <td>10</td>\n",
              "      <td>236</td>\n",
              "      <td>2010</td>\n",
              "      <td>NaN</td>\n",
              "    </tr>\n",
              "    <tr>\n",
              "      <th>4</th>\n",
              "      <td>AUSTRALIA</td>\n",
              "      <td>NEW ZEALAND</td>\n",
              "      <td>48.4</td>\n",
              "      <td>10</td>\n",
              "      <td>181</td>\n",
              "      <td>50.0</td>\n",
              "      <td>8</td>\n",
              "      <td>182</td>\n",
              "      <td>2009</td>\n",
              "      <td>NaN</td>\n",
              "    </tr>\n",
              "  </tbody>\n",
              "</table>\n",
              "</div>"
            ],
            "text/plain": [
              "         team1         team2  innings1_overs  ...  innings2_runs  year  result\n",
              "0    SRI LANKA      ZIMBABWE            50.0  ...            213  2001     NaN\n",
              "1  NETHERLANDS        CANADA            50.0  ...            172  2007     NaN\n",
              "2     ZIMBABWE  SOUTH AFRICA            50.0  ...            175  2003     NaN\n",
              "3        INDIA   NEW ZEALAND            49.0  ...            236  2010     NaN\n",
              "4    AUSTRALIA   NEW ZEALAND            48.4  ...            182  2009     NaN\n",
              "\n",
              "[5 rows x 10 columns]"
            ]
          },
          "metadata": {
            "tags": []
          },
          "execution_count": 490
        }
      ]
    },
    {
      "cell_type": "code",
      "metadata": {
        "colab": {
          "base_uri": "https://localhost:8080/"
        },
        "id": "0mM8-udlsncf",
        "outputId": "e2da420d-7e5e-48c3-e730-254e7c3331ed"
      },
      "source": [
        "for i in range(0,4037):\n",
        "  if dataset.innings1_runs[i] > dataset.innings2_runs[i]:\n",
        "    dataset.result[i] = \"won\"\n",
        "  else:\n",
        "    dataset.result[i] = \"lost\""
      ],
      "execution_count": 491,
      "outputs": [
        {
          "output_type": "stream",
          "text": [
            "/usr/local/lib/python3.6/dist-packages/ipykernel_launcher.py:3: SettingWithCopyWarning: \n",
            "A value is trying to be set on a copy of a slice from a DataFrame\n",
            "\n",
            "See the caveats in the documentation: https://pandas.pydata.org/pandas-docs/stable/user_guide/indexing.html#returning-a-view-versus-a-copy\n",
            "  This is separate from the ipykernel package so we can avoid doing imports until\n",
            "/usr/local/lib/python3.6/dist-packages/pandas/core/indexing.py:670: SettingWithCopyWarning: \n",
            "A value is trying to be set on a copy of a slice from a DataFrame\n",
            "\n",
            "See the caveats in the documentation: https://pandas.pydata.org/pandas-docs/stable/user_guide/indexing.html#returning-a-view-versus-a-copy\n",
            "  iloc._setitem_with_indexer(indexer, value)\n",
            "/usr/local/lib/python3.6/dist-packages/ipykernel_launcher.py:5: SettingWithCopyWarning: \n",
            "A value is trying to be set on a copy of a slice from a DataFrame\n",
            "\n",
            "See the caveats in the documentation: https://pandas.pydata.org/pandas-docs/stable/user_guide/indexing.html#returning-a-view-versus-a-copy\n",
            "  \"\"\"\n"
          ],
          "name": "stderr"
        }
      ]
    },
    {
      "cell_type": "code",
      "metadata": {
        "colab": {
          "base_uri": "https://localhost:8080/",
          "height": 197
        },
        "id": "NDKUppRMr8NT",
        "outputId": "f7de7c49-9c57-4bc9-aced-c2dfb3d22441"
      },
      "source": [
        "dataset.head()"
      ],
      "execution_count": 492,
      "outputs": [
        {
          "output_type": "execute_result",
          "data": {
            "text/html": [
              "<div>\n",
              "<style scoped>\n",
              "    .dataframe tbody tr th:only-of-type {\n",
              "        vertical-align: middle;\n",
              "    }\n",
              "\n",
              "    .dataframe tbody tr th {\n",
              "        vertical-align: top;\n",
              "    }\n",
              "\n",
              "    .dataframe thead th {\n",
              "        text-align: right;\n",
              "    }\n",
              "</style>\n",
              "<table border=\"1\" class=\"dataframe\">\n",
              "  <thead>\n",
              "    <tr style=\"text-align: right;\">\n",
              "      <th></th>\n",
              "      <th>team1</th>\n",
              "      <th>team2</th>\n",
              "      <th>innings1_overs</th>\n",
              "      <th>innings1_wickets</th>\n",
              "      <th>innings1_runs</th>\n",
              "      <th>innings2_overs</th>\n",
              "      <th>innings2_wickets</th>\n",
              "      <th>innings2_runs</th>\n",
              "      <th>year</th>\n",
              "      <th>result</th>\n",
              "    </tr>\n",
              "  </thead>\n",
              "  <tbody>\n",
              "    <tr>\n",
              "      <th>0</th>\n",
              "      <td>SRI LANKA</td>\n",
              "      <td>ZIMBABWE</td>\n",
              "      <td>50.0</td>\n",
              "      <td>7</td>\n",
              "      <td>272</td>\n",
              "      <td>47.2</td>\n",
              "      <td>10</td>\n",
              "      <td>213</td>\n",
              "      <td>2001</td>\n",
              "      <td>won</td>\n",
              "    </tr>\n",
              "    <tr>\n",
              "      <th>1</th>\n",
              "      <td>NETHERLANDS</td>\n",
              "      <td>CANADA</td>\n",
              "      <td>50.0</td>\n",
              "      <td>7</td>\n",
              "      <td>289</td>\n",
              "      <td>43.0</td>\n",
              "      <td>10</td>\n",
              "      <td>172</td>\n",
              "      <td>2007</td>\n",
              "      <td>won</td>\n",
              "    </tr>\n",
              "    <tr>\n",
              "      <th>2</th>\n",
              "      <td>ZIMBABWE</td>\n",
              "      <td>SOUTH AFRICA</td>\n",
              "      <td>50.0</td>\n",
              "      <td>8</td>\n",
              "      <td>174</td>\n",
              "      <td>34.2</td>\n",
              "      <td>1</td>\n",
              "      <td>175</td>\n",
              "      <td>2003</td>\n",
              "      <td>lost</td>\n",
              "    </tr>\n",
              "    <tr>\n",
              "      <th>3</th>\n",
              "      <td>INDIA</td>\n",
              "      <td>NEW ZEALAND</td>\n",
              "      <td>49.0</td>\n",
              "      <td>10</td>\n",
              "      <td>276</td>\n",
              "      <td>45.2</td>\n",
              "      <td>10</td>\n",
              "      <td>236</td>\n",
              "      <td>2010</td>\n",
              "      <td>won</td>\n",
              "    </tr>\n",
              "    <tr>\n",
              "      <th>4</th>\n",
              "      <td>AUSTRALIA</td>\n",
              "      <td>NEW ZEALAND</td>\n",
              "      <td>48.4</td>\n",
              "      <td>10</td>\n",
              "      <td>181</td>\n",
              "      <td>50.0</td>\n",
              "      <td>8</td>\n",
              "      <td>182</td>\n",
              "      <td>2009</td>\n",
              "      <td>lost</td>\n",
              "    </tr>\n",
              "  </tbody>\n",
              "</table>\n",
              "</div>"
            ],
            "text/plain": [
              "         team1         team2  innings1_overs  ...  innings2_runs  year  result\n",
              "0    SRI LANKA      ZIMBABWE            50.0  ...            213  2001     won\n",
              "1  NETHERLANDS        CANADA            50.0  ...            172  2007     won\n",
              "2     ZIMBABWE  SOUTH AFRICA            50.0  ...            175  2003    lost\n",
              "3        INDIA   NEW ZEALAND            49.0  ...            236  2010     won\n",
              "4    AUSTRALIA   NEW ZEALAND            48.4  ...            182  2009    lost\n",
              "\n",
              "[5 rows x 10 columns]"
            ]
          },
          "metadata": {
            "tags": []
          },
          "execution_count": 492
        }
      ]
    },
    {
      "cell_type": "code",
      "metadata": {
        "colab": {
          "base_uri": "https://localhost:8080/",
          "height": 197
        },
        "id": "WnAYcrIEs-Vk",
        "outputId": "9d06a4e3-d032-4514-9f3d-61ef6fc821e8"
      },
      "source": [
        "dataset.tail()"
      ],
      "execution_count": 493,
      "outputs": [
        {
          "output_type": "execute_result",
          "data": {
            "text/html": [
              "<div>\n",
              "<style scoped>\n",
              "    .dataframe tbody tr th:only-of-type {\n",
              "        vertical-align: middle;\n",
              "    }\n",
              "\n",
              "    .dataframe tbody tr th {\n",
              "        vertical-align: top;\n",
              "    }\n",
              "\n",
              "    .dataframe thead th {\n",
              "        text-align: right;\n",
              "    }\n",
              "</style>\n",
              "<table border=\"1\" class=\"dataframe\">\n",
              "  <thead>\n",
              "    <tr style=\"text-align: right;\">\n",
              "      <th></th>\n",
              "      <th>team1</th>\n",
              "      <th>team2</th>\n",
              "      <th>innings1_overs</th>\n",
              "      <th>innings1_wickets</th>\n",
              "      <th>innings1_runs</th>\n",
              "      <th>innings2_overs</th>\n",
              "      <th>innings2_wickets</th>\n",
              "      <th>innings2_runs</th>\n",
              "      <th>year</th>\n",
              "      <th>result</th>\n",
              "    </tr>\n",
              "  </thead>\n",
              "  <tbody>\n",
              "    <tr>\n",
              "      <th>4032</th>\n",
              "      <td>ENGLAND</td>\n",
              "      <td>AUSTRALIA</td>\n",
              "      <td>50.0</td>\n",
              "      <td>6</td>\n",
              "      <td>269</td>\n",
              "      <td>50.0</td>\n",
              "      <td>9</td>\n",
              "      <td>221</td>\n",
              "      <td>2013</td>\n",
              "      <td>won</td>\n",
              "    </tr>\n",
              "    <tr>\n",
              "      <th>4033</th>\n",
              "      <td>AUSTRALIA</td>\n",
              "      <td>INDIA</td>\n",
              "      <td>50.0</td>\n",
              "      <td>5</td>\n",
              "      <td>229</td>\n",
              "      <td>48.2</td>\n",
              "      <td>4</td>\n",
              "      <td>230</td>\n",
              "      <td>2009</td>\n",
              "      <td>lost</td>\n",
              "    </tr>\n",
              "    <tr>\n",
              "      <th>4034</th>\n",
              "      <td>NEW ZEALAND</td>\n",
              "      <td>ZIMBABWE</td>\n",
              "      <td>48.3</td>\n",
              "      <td>10</td>\n",
              "      <td>248</td>\n",
              "      <td>41.1</td>\n",
              "      <td>10</td>\n",
              "      <td>158</td>\n",
              "      <td>2012</td>\n",
              "      <td>won</td>\n",
              "    </tr>\n",
              "    <tr>\n",
              "      <th>4035</th>\n",
              "      <td>AUSTRALIA</td>\n",
              "      <td>SOUTH AFRICA</td>\n",
              "      <td>47.3</td>\n",
              "      <td>10</td>\n",
              "      <td>215</td>\n",
              "      <td>47.2</td>\n",
              "      <td>8</td>\n",
              "      <td>218</td>\n",
              "      <td>1996</td>\n",
              "      <td>lost</td>\n",
              "    </tr>\n",
              "    <tr>\n",
              "      <th>4036</th>\n",
              "      <td>KENYA</td>\n",
              "      <td>SCOTLAND</td>\n",
              "      <td>50.0</td>\n",
              "      <td>9</td>\n",
              "      <td>259</td>\n",
              "      <td>50.0</td>\n",
              "      <td>8</td>\n",
              "      <td>253</td>\n",
              "      <td>2007</td>\n",
              "      <td>won</td>\n",
              "    </tr>\n",
              "  </tbody>\n",
              "</table>\n",
              "</div>"
            ],
            "text/plain": [
              "            team1         team2  innings1_overs  ...  innings2_runs  year  result\n",
              "4032      ENGLAND     AUSTRALIA            50.0  ...            221  2013     won\n",
              "4033    AUSTRALIA         INDIA            50.0  ...            230  2009    lost\n",
              "4034  NEW ZEALAND      ZIMBABWE            48.3  ...            158  2012     won\n",
              "4035    AUSTRALIA  SOUTH AFRICA            47.3  ...            218  1996    lost\n",
              "4036        KENYA      SCOTLAND            50.0  ...            253  2007     won\n",
              "\n",
              "[5 rows x 10 columns]"
            ]
          },
          "metadata": {
            "tags": []
          },
          "execution_count": 493
        }
      ]
    },
    {
      "cell_type": "code",
      "metadata": {
        "id": "IUlC545s1AvM"
      },
      "source": [
        "from sklearn import preprocessing \n",
        "label_encoder = preprocessing.LabelEncoder() \n",
        "dataset['team1']= label_encoder.fit_transform(dataset['team1'])\n",
        "dataset['team2']= label_encoder.fit_transform(dataset['team2'])\n",
        "dataset['result'] = label_encoder.fit_transform(dataset['result'])"
      ],
      "execution_count": 494,
      "outputs": []
    },
    {
      "cell_type": "code",
      "metadata": {
        "id": "-4JVVMC2aZzp"
      },
      "source": [
        "X = dataset.iloc[:, :-1].values\n",
        "y = dataset.iloc[:, -1].values"
      ],
      "execution_count": 495,
      "outputs": []
    },
    {
      "cell_type": "code",
      "metadata": {
        "colab": {
          "base_uri": "https://localhost:8080/"
        },
        "id": "pYDCT8rlaiWR",
        "outputId": "80f725d3-2b38-417f-d2f9-5510bedde4c6"
      },
      "source": [
        "print(X)"
      ],
      "execution_count": 496,
      "outputs": [
        {
          "output_type": "stream",
          "text": [
            "[[2.200e+01 2.700e+01 5.000e+01 ... 1.000e+01 2.130e+02 2.001e+03]\n",
            " [1.600e+01 6.000e+00 5.000e+01 ... 1.000e+01 1.720e+02 2.007e+03]\n",
            " [2.600e+01 2.200e+01 5.000e+01 ... 1.000e+00 1.750e+02 2.003e+03]\n",
            " ...\n",
            " [1.700e+01 2.700e+01 4.830e+01 ... 1.000e+01 1.580e+02 2.012e+03]\n",
            " [3.000e+00 2.200e+01 4.730e+01 ... 8.000e+00 2.180e+02 1.996e+03]\n",
            " [1.300e+01 2.100e+01 5.000e+01 ... 8.000e+00 2.530e+02 2.007e+03]]\n"
          ],
          "name": "stdout"
        }
      ]
    },
    {
      "cell_type": "code",
      "metadata": {
        "colab": {
          "base_uri": "https://localhost:8080/"
        },
        "id": "Kt1P68uvakfr",
        "outputId": "28a06ee0-2f92-4be9-8644-abfbd71a43f9"
      },
      "source": [
        "print(y)"
      ],
      "execution_count": 497,
      "outputs": [
        {
          "output_type": "stream",
          "text": [
            "[1 1 0 ... 1 0 1]\n"
          ],
          "name": "stdout"
        }
      ]
    },
    {
      "cell_type": "code",
      "metadata": {
        "colab": {
          "base_uri": "https://localhost:8080/",
          "height": 197
        },
        "id": "hq_PKOy-1qbR",
        "outputId": "aa86631b-26d9-45f0-c4af-4882ea2a7a24"
      },
      "source": [
        "dataset.head()"
      ],
      "execution_count": 498,
      "outputs": [
        {
          "output_type": "execute_result",
          "data": {
            "text/html": [
              "<div>\n",
              "<style scoped>\n",
              "    .dataframe tbody tr th:only-of-type {\n",
              "        vertical-align: middle;\n",
              "    }\n",
              "\n",
              "    .dataframe tbody tr th {\n",
              "        vertical-align: top;\n",
              "    }\n",
              "\n",
              "    .dataframe thead th {\n",
              "        text-align: right;\n",
              "    }\n",
              "</style>\n",
              "<table border=\"1\" class=\"dataframe\">\n",
              "  <thead>\n",
              "    <tr style=\"text-align: right;\">\n",
              "      <th></th>\n",
              "      <th>team1</th>\n",
              "      <th>team2</th>\n",
              "      <th>innings1_overs</th>\n",
              "      <th>innings1_wickets</th>\n",
              "      <th>innings1_runs</th>\n",
              "      <th>innings2_overs</th>\n",
              "      <th>innings2_wickets</th>\n",
              "      <th>innings2_runs</th>\n",
              "      <th>year</th>\n",
              "      <th>result</th>\n",
              "    </tr>\n",
              "  </thead>\n",
              "  <tbody>\n",
              "    <tr>\n",
              "      <th>0</th>\n",
              "      <td>22</td>\n",
              "      <td>27</td>\n",
              "      <td>50.0</td>\n",
              "      <td>7</td>\n",
              "      <td>272</td>\n",
              "      <td>47.2</td>\n",
              "      <td>10</td>\n",
              "      <td>213</td>\n",
              "      <td>2001</td>\n",
              "      <td>1</td>\n",
              "    </tr>\n",
              "    <tr>\n",
              "      <th>1</th>\n",
              "      <td>16</td>\n",
              "      <td>6</td>\n",
              "      <td>50.0</td>\n",
              "      <td>7</td>\n",
              "      <td>289</td>\n",
              "      <td>43.0</td>\n",
              "      <td>10</td>\n",
              "      <td>172</td>\n",
              "      <td>2007</td>\n",
              "      <td>1</td>\n",
              "    </tr>\n",
              "    <tr>\n",
              "      <th>2</th>\n",
              "      <td>26</td>\n",
              "      <td>22</td>\n",
              "      <td>50.0</td>\n",
              "      <td>8</td>\n",
              "      <td>174</td>\n",
              "      <td>34.2</td>\n",
              "      <td>1</td>\n",
              "      <td>175</td>\n",
              "      <td>2003</td>\n",
              "      <td>0</td>\n",
              "    </tr>\n",
              "    <tr>\n",
              "      <th>3</th>\n",
              "      <td>11</td>\n",
              "      <td>17</td>\n",
              "      <td>49.0</td>\n",
              "      <td>10</td>\n",
              "      <td>276</td>\n",
              "      <td>45.2</td>\n",
              "      <td>10</td>\n",
              "      <td>236</td>\n",
              "      <td>2010</td>\n",
              "      <td>1</td>\n",
              "    </tr>\n",
              "    <tr>\n",
              "      <th>4</th>\n",
              "      <td>3</td>\n",
              "      <td>17</td>\n",
              "      <td>48.4</td>\n",
              "      <td>10</td>\n",
              "      <td>181</td>\n",
              "      <td>50.0</td>\n",
              "      <td>8</td>\n",
              "      <td>182</td>\n",
              "      <td>2009</td>\n",
              "      <td>0</td>\n",
              "    </tr>\n",
              "  </tbody>\n",
              "</table>\n",
              "</div>"
            ],
            "text/plain": [
              "   team1  team2  innings1_overs  ...  innings2_runs  year  result\n",
              "0     22     27            50.0  ...            213  2001       1\n",
              "1     16      6            50.0  ...            172  2007       1\n",
              "2     26     22            50.0  ...            175  2003       0\n",
              "3     11     17            49.0  ...            236  2010       1\n",
              "4      3     17            48.4  ...            182  2009       0\n",
              "\n",
              "[5 rows x 10 columns]"
            ]
          },
          "metadata": {
            "tags": []
          },
          "execution_count": 498
        }
      ]
    },
    {
      "cell_type": "code",
      "metadata": {
        "colab": {
          "base_uri": "https://localhost:8080/"
        },
        "id": "g3QDixEB5bPT",
        "outputId": "3f0b2fad-e8b9-4550-e268-fa2c35284219"
      },
      "source": [
        "from sklearn.model_selection import train_test_split\n",
        "X_train, X_test, y_train, y_test = train_test_split(X, y, test_size = 0.2, random_state = 1)\n",
        "print(X_train)\n",
        "print(X_test)\n",
        "print(y_train)\n",
        "print(y_test)"
      ],
      "execution_count": 499,
      "outputs": [
        {
          "output_type": "stream",
          "text": [
            "[[  18.    26.    45.  ...    7.   191.  1986. ]\n",
            " [  21.    19.    35.  ...   10.   121.  2000. ]\n",
            " [   3.    17.    50.  ...   10.   206.  2006. ]\n",
            " ...\n",
            " [  13.    16.    50.  ...    3.   248.  2009. ]\n",
            " [   6.    21.    44.3 ...    8.   209.  2007. ]\n",
            " [  21.    26.    42.  ...   10.   230.  2015. ]]\n",
            "[[  21.     3.    50.  ...    7.   264.  2009. ]\n",
            " [   8.    19.    55.  ...   10.    85.  1978. ]\n",
            " [  22.    26.    48.3 ...    4.   209.  2013. ]\n",
            " ...\n",
            " [  11.    23.    50.  ...    8.   265.  2014. ]\n",
            " [  18.    17.    50.  ...   10.   227.  2011. ]\n",
            " [   3.    11.    50.  ...    5.   261.  2011. ]]\n",
            "[1 1 1 ... 0 0 1]\n",
            "[1 1 0 0 0 0 0 1 1 0 0 1 0 1 1 1 0 1 1 0 1 0 1 1 0 0 0 0 0 1 0 0 0 0 0 0 1\n",
            " 0 1 1 0 0 0 0 0 0 0 1 0 1 0 1 0 1 0 1 1 0 1 0 1 1 1 0 1 1 1 0 1 1 1 0 0 1\n",
            " 1 0 1 1 1 0 0 0 0 1 0 1 0 1 1 0 1 0 1 0 1 0 1 1 1 0 1 1 0 1 0 0 0 1 1 1 1\n",
            " 0 0 1 1 0 1 1 0 1 0 0 0 1 0 0 1 0 1 0 1 1 1 1 0 1 0 1 0 1 0 1 0 0 0 1 0 0\n",
            " 1 0 1 1 0 0 0 0 0 1 1 1 1 1 1 0 1 0 0 0 0 0 0 0 0 1 0 1 1 0 1 0 1 0 1 1 0\n",
            " 0 0 0 0 1 1 0 0 0 0 1 0 1 1 1 0 1 0 1 0 1 0 1 0 0 1 0 1 1 0 1 0 1 1 0 1 1\n",
            " 0 0 1 0 1 1 1 1 1 0 1 1 0 1 1 0 0 0 1 0 1 0 0 0 1 1 1 1 1 1 1 1 0 1 1 1 0\n",
            " 1 0 1 1 1 0 0 1 0 0 1 1 1 0 0 0 1 1 0 0 1 0 1 0 1 0 1 0 0 0 0 0 1 1 1 0 1\n",
            " 0 1 1 0 0 1 0 0 1 0 1 1 1 0 0 1 0 0 0 1 1 0 0 0 1 0 0 1 1 0 0 1 0 0 1 1 0\n",
            " 0 1 0 0 0 1 0 0 1 1 0 1 0 1 0 0 1 0 1 0 0 1 0 1 1 0 0 1 0 0 1 0 1 0 0 0 1\n",
            " 0 0 1 0 0 1 0 1 1 1 1 0 0 0 1 0 1 0 1 0 1 1 1 1 1 1 1 1 0 1 1 0 0 1 1 0 0\n",
            " 0 1 1 1 0 1 0 0 1 0 0 0 0 0 0 1 1 1 0 0 0 0 0 1 1 1 0 1 0 0 0 1 1 1 1 0 1\n",
            " 0 0 0 0 1 0 1 1 1 0 1 0 1 0 0 0 0 0 0 1 1 0 1 0 1 1 0 1 1 0 0 0 0 1 0 1 1\n",
            " 0 0 1 1 1 1 1 0 0 0 1 0 1 0 1 1 0 0 1 1 0 0 0 0 1 0 1 0 1 1 1 1 0 0 1 0 1\n",
            " 1 0 1 0 1 0 1 0 1 0 0 0 0 1 1 0 0 0 1 0 1 0 1 1 1 0 0 0 0 1 0 1 1 0 0 1 0\n",
            " 1 0 1 1 1 1 1 1 0 0 1 1 0 0 1 0 1 1 1 1 1 1 1 1 0 1 0 1 1 1 1 0 1 1 1 1 0\n",
            " 1 1 0 1 1 0 1 1 0 1 0 1 1 0 1 1 0 1 0 1 0 0 0 1 0 0 1 0 1 0 0 1 1 1 0 1 0\n",
            " 1 1 0 0 1 1 1 1 0 0 0 0 1 0 1 0 1 1 0 1 1 0 0 0 1 0 1 0 0 0 0 1 0 0 0 0 1\n",
            " 1 0 1 0 0 1 1 0 0 1 0 0 0 1 0 0 0 1 0 0 1 1 1 0 0 0 0 1 1 0 0 1 0 1 1 0 0\n",
            " 1 1 1 1 1 1 0 0 1 0 1 1 0 1 0 0 0 0 0 1 1 1 0 0 1 0 1 1 1 1 1 0 0 1 1 1 1\n",
            " 1 1 1 1 0 0 1 1 1 0 0 1 1 1 0 1 0 0 0 1 0 0 1 0 0 1 1 0 1 0 0 0 0 0 1 0 0\n",
            " 0 1 1 0 0 0 0 0 1 0 0 1 1 1 1 1 0 1 0 1 1 0 0 0 1 0 0 1 0 1 0]\n"
          ],
          "name": "stdout"
        }
      ]
    },
    {
      "cell_type": "code",
      "metadata": {
        "colab": {
          "base_uri": "https://localhost:8080/"
        },
        "id": "Nic0GcKE9BsF",
        "outputId": "b46c513a-8f7c-47bf-e9f4-b4c7f0983cb8"
      },
      "source": [
        "from sklearn.preprocessing import StandardScaler\n",
        "sc = StandardScaler()\n",
        "X_train[:,:] = sc.fit_transform(X_train[:,:])\n",
        "X_test[:,:] = sc.transform(X_test[:,:])\n",
        "print(X_train)\n",
        "print(X_test)"
      ],
      "execution_count": 500,
      "outputs": [
        {
          "output_type": "stream",
          "text": [
            "[[ 0.39825362  1.26796889 -0.49510918 ...  0.10774435 -0.12923812\n",
            "  -1.54844699]\n",
            " [ 0.78388765  0.39985534 -2.29968245 ...  1.05744359 -1.35435522\n",
            "  -0.21385987]\n",
            " [-1.52991653  0.15182289  0.40717745 ...  1.05744359  0.13328697\n",
            "   0.35810604]\n",
            " ...\n",
            " [-0.24446976  0.02780667  0.40717745 ... -1.15852132  0.86835723\n",
            "   0.644089  ]\n",
            " [-1.1442825   0.64788778 -0.62142931 ...  0.42431076  0.18579199\n",
            "   0.4534337 ]\n",
            " [ 0.78388765  1.26796889 -1.03648116 ...  1.05744359  0.55332712\n",
            "   1.21605491]]\n",
            "[[ 0.78388765 -1.58440421  0.40717745 ...  0.10774435  1.148384\n",
            "   0.644089  ]\n",
            " [-0.88719315  0.39985534  1.30946408 ...  1.05744359 -1.98441544\n",
            "  -2.31106821]\n",
            " [ 0.91243233  1.26796889  0.1004     ... -0.8419549   0.18579199\n",
            "   1.02539961]\n",
            " ...\n",
            " [-0.50155912  0.89592023  0.40717745 ...  0.42431076  1.16588567\n",
            "   1.12072726]\n",
            " [ 0.39825362  0.15182289  0.40717745 ...  1.05744359  0.5008221\n",
            "   0.8347443 ]\n",
            " [-1.52991653 -0.59227444  0.40717745 ... -0.52538849  1.09587898\n",
            "   0.8347443 ]]\n"
          ],
          "name": "stdout"
        }
      ]
    },
    {
      "cell_type": "markdown",
      "metadata": {
        "id": "bDwhMaDmWzeW"
      },
      "source": [
        "## Naive bayes\n"
      ]
    },
    {
      "cell_type": "code",
      "metadata": {
        "colab": {
          "base_uri": "https://localhost:8080/"
        },
        "id": "Elar4PzbAyp9",
        "outputId": "f033feeb-7e83-4b0a-941a-dbaa451d0873"
      },
      "source": [
        "from sklearn.naive_bayes import GaussianNB\n",
        "classifier = GaussianNB()\n",
        "classifier.fit(X_train,y_train)"
      ],
      "execution_count": 501,
      "outputs": [
        {
          "output_type": "execute_result",
          "data": {
            "text/plain": [
              "GaussianNB(priors=None, var_smoothing=1e-09)"
            ]
          },
          "metadata": {
            "tags": []
          },
          "execution_count": 501
        }
      ]
    },
    {
      "cell_type": "code",
      "metadata": {
        "colab": {
          "base_uri": "https://localhost:8080/"
        },
        "id": "GPp5J0uTBfyk",
        "outputId": "c47d63fb-1fe3-45ac-9a4a-27fce542425a"
      },
      "source": [
        "y_pred = classifier.predict(X_test)\n",
        "print(np.concatenate((y_pred.reshape(len(y_pred),1), y_test.reshape(len(y_test),1)),1))"
      ],
      "execution_count": 502,
      "outputs": [
        {
          "output_type": "stream",
          "text": [
            "[[1 1]\n",
            " [1 1]\n",
            " [0 0]\n",
            " ...\n",
            " [1 0]\n",
            " [1 1]\n",
            " [1 0]]\n"
          ],
          "name": "stdout"
        }
      ]
    },
    {
      "cell_type": "code",
      "metadata": {
        "colab": {
          "base_uri": "https://localhost:8080/"
        },
        "id": "cwdovQRHBwQc",
        "outputId": "ff2c8c42-757d-44ac-9f7b-e7b920fcbbe0"
      },
      "source": [
        "from sklearn.metrics import confusion_matrix, accuracy_score\n",
        "cm = confusion_matrix(y_test, y_pred)\n",
        "print(cm)\n",
        "accuracy_score(y_test, y_pred)"
      ],
      "execution_count": 503,
      "outputs": [
        {
          "output_type": "stream",
          "text": [
            "[[337  71]\n",
            " [ 37 363]]\n"
          ],
          "name": "stdout"
        },
        {
          "output_type": "execute_result",
          "data": {
            "text/plain": [
              "0.8663366336633663"
            ]
          },
          "metadata": {
            "tags": []
          },
          "execution_count": 503
        }
      ]
    },
    {
      "cell_type": "code",
      "metadata": {
        "colab": {
          "base_uri": "https://localhost:8080/"
        },
        "id": "_p2P5HNWB0JH",
        "outputId": "7a1d6ef0-3e5a-4aa6-e647-7543955bf166"
      },
      "source": [
        "predictions_NB = classifier.predict(X_test)\n",
        "from sklearn.metrics import mean_absolute_error, accuracy_score, f1_score, recall_score, precision_score\n",
        "mae = mean_absolute_error(y_test, predictions_NB)\n",
        "acc = accuracy_score(y_test, predictions_NB)\n",
        "f1_score = f1_score(y_test, predictions_NB,average='weighted')\n",
        "recall = recall_score(y_test, predictions_NB,average='weighted')\n",
        "precision = precision_score(y_test, predictions_NB,average='weighted')\n",
        "print(\"Mean Absolute Error : \",mae)\n",
        "print(\"Accuracy: \",acc)\n",
        "print(\"Recall: \",recall)\n",
        "print(\"Precision: \",precision)\n",
        "print(\"F1-score: \",f1_score)"
      ],
      "execution_count": 504,
      "outputs": [
        {
          "output_type": "stream",
          "text": [
            "Mean Absolute Error :  0.13366336633663367\n",
            "Accuracy:  0.8663366336633663\n",
            "Recall:  0.8663366336633663\n",
            "Precision:  0.8690576430914981\n",
            "F1-score:  0.8661554613390647\n"
          ],
          "name": "stdout"
        }
      ]
    },
    {
      "cell_type": "markdown",
      "metadata": {
        "id": "ljCVX1Owa01q"
      },
      "source": [
        "## ExtraTrees Classifier"
      ]
    },
    {
      "cell_type": "code",
      "metadata": {
        "colab": {
          "base_uri": "https://localhost:8080/"
        },
        "id": "3geSiDA6DjfD",
        "outputId": "958fe35e-1efa-4a87-b771-8e1ebcbf6c86"
      },
      "source": [
        "from sklearn.ensemble import ExtraTreesClassifier\n",
        "model_ET = ExtraTreesClassifier(max_features='log2',min_samples_split=3)\n",
        "model_ET.fit(X_train, y_train)"
      ],
      "execution_count": 505,
      "outputs": [
        {
          "output_type": "execute_result",
          "data": {
            "text/plain": [
              "ExtraTreesClassifier(bootstrap=False, ccp_alpha=0.0, class_weight=None,\n",
              "                     criterion='gini', max_depth=None, max_features='log2',\n",
              "                     max_leaf_nodes=None, max_samples=None,\n",
              "                     min_impurity_decrease=0.0, min_impurity_split=None,\n",
              "                     min_samples_leaf=1, min_samples_split=3,\n",
              "                     min_weight_fraction_leaf=0.0, n_estimators=100,\n",
              "                     n_jobs=None, oob_score=False, random_state=None, verbose=0,\n",
              "                     warm_start=False)"
            ]
          },
          "metadata": {
            "tags": []
          },
          "execution_count": 505
        }
      ]
    },
    {
      "cell_type": "code",
      "metadata": {
        "colab": {
          "base_uri": "https://localhost:8080/"
        },
        "id": "8xbr1tsRiDL9",
        "outputId": "6d9c2ef9-573d-4f2e-dc61-54f20eb590c6"
      },
      "source": [
        "y_pred = model_ET.predict(X_test)\n",
        "print(np.concatenate((y_pred.reshape(len(y_pred),1), y_test.reshape(len(y_test),1)),1))"
      ],
      "execution_count": 506,
      "outputs": [
        {
          "output_type": "stream",
          "text": [
            "[[1 1]\n",
            " [1 1]\n",
            " [0 0]\n",
            " ...\n",
            " [0 0]\n",
            " [1 1]\n",
            " [0 0]]\n"
          ],
          "name": "stdout"
        }
      ]
    },
    {
      "cell_type": "code",
      "metadata": {
        "colab": {
          "base_uri": "https://localhost:8080/"
        },
        "id": "xzeCcqN9EB0r",
        "outputId": "a6066a1e-3c77-4374-9e66-68555e6943b5"
      },
      "source": [
        "from sklearn.metrics import confusion_matrix, accuracy_score\n",
        "cm = confusion_matrix(y_test, y_pred)\n",
        "print(cm)\n",
        "accuracy_score(y_test, y_pred)"
      ],
      "execution_count": 507,
      "outputs": [
        {
          "output_type": "stream",
          "text": [
            "[[392  16]\n",
            " [ 31 369]]\n"
          ],
          "name": "stdout"
        },
        {
          "output_type": "execute_result",
          "data": {
            "text/plain": [
              "0.9418316831683168"
            ]
          },
          "metadata": {
            "tags": []
          },
          "execution_count": 507
        }
      ]
    },
    {
      "cell_type": "code",
      "metadata": {
        "colab": {
          "base_uri": "https://localhost:8080/"
        },
        "id": "BCgaksQYgupy",
        "outputId": "21678e44-73dd-4265-ee5a-3cf5f932657d"
      },
      "source": [
        "predictions_ET = model_ET.predict(X_test)\n",
        "from sklearn.metrics import mean_absolute_error, accuracy_score, f1_score, recall_score, precision_score\n",
        "mae = mean_absolute_error(y_test, predictions_ET)\n",
        "acc = accuracy_score(y_test, predictions_ET)\n",
        "f1_score = f1_score(y_test, predictions_ET,average='weighted')\n",
        "recall = recall_score(y_test, predictions_ET,average='weighted')\n",
        "precision = precision_score(y_test, predictions_ET,average='weighted')\n",
        "print(\"Mean Absolute Error : \",mae)\n",
        "print(\"Accuracy: \",acc)\n",
        "print(\"Recall: \",recall)\n",
        "print(\"Precision: \",precision)\n",
        "print(\"F1-score: \",f1_score)"
      ],
      "execution_count": 508,
      "outputs": [
        {
          "output_type": "stream",
          "text": [
            "Mean Absolute Error :  0.05816831683168317\n",
            "Accuracy:  0.9418316831683168\n",
            "Recall:  0.9418316831683168\n",
            "Precision:  0.9424206858375807\n",
            "F1-score:  0.9418009197272827\n"
          ],
          "name": "stdout"
        }
      ]
    },
    {
      "cell_type": "markdown",
      "metadata": {
        "id": "4Vl91m1CbGg4"
      },
      "source": [
        "## Random Forest"
      ]
    },
    {
      "cell_type": "code",
      "metadata": {
        "colab": {
          "base_uri": "https://localhost:8080/"
        },
        "id": "hnH-KE32CKM3",
        "outputId": "71549c32-6053-49d5-a95e-ecf452749dfc"
      },
      "source": [
        "from sklearn.ensemble import RandomForestClassifier\n",
        "model_RF = RandomForestClassifier(n_estimators = 100, n_jobs=-1)\n",
        "# Add silent=True to avoid printing out updates with each cycle\n",
        "model_RF.fit(X_train, y_train)"
      ],
      "execution_count": 509,
      "outputs": [
        {
          "output_type": "execute_result",
          "data": {
            "text/plain": [
              "RandomForestClassifier(bootstrap=True, ccp_alpha=0.0, class_weight=None,\n",
              "                       criterion='gini', max_depth=None, max_features='auto',\n",
              "                       max_leaf_nodes=None, max_samples=None,\n",
              "                       min_impurity_decrease=0.0, min_impurity_split=None,\n",
              "                       min_samples_leaf=1, min_samples_split=2,\n",
              "                       min_weight_fraction_leaf=0.0, n_estimators=100,\n",
              "                       n_jobs=-1, oob_score=False, random_state=None, verbose=0,\n",
              "                       warm_start=False)"
            ]
          },
          "metadata": {
            "tags": []
          },
          "execution_count": 509
        }
      ]
    },
    {
      "cell_type": "code",
      "metadata": {
        "colab": {
          "base_uri": "https://localhost:8080/"
        },
        "id": "LfX3Mr--iUkz",
        "outputId": "7db97a6f-1585-4d6a-f7f4-ec9a6e4fd158"
      },
      "source": [
        "y_pred = model_RF.predict(X_test)\n",
        "print(np.concatenate((y_pred.reshape(len(y_pred),1), y_test.reshape(len(y_test),1)),1))"
      ],
      "execution_count": 510,
      "outputs": [
        {
          "output_type": "stream",
          "text": [
            "[[1 1]\n",
            " [1 1]\n",
            " [0 0]\n",
            " ...\n",
            " [0 0]\n",
            " [1 1]\n",
            " [0 0]]\n"
          ],
          "name": "stdout"
        }
      ]
    },
    {
      "cell_type": "code",
      "metadata": {
        "colab": {
          "base_uri": "https://localhost:8080/"
        },
        "id": "HtSbqXVbC_vU",
        "outputId": "bdd20a30-6518-4ab3-ece6-a7290dc2e2d1"
      },
      "source": [
        "from sklearn.metrics import confusion_matrix, accuracy_score\n",
        "cm = confusion_matrix(y_test, y_pred)\n",
        "print(cm)\n",
        "accuracy_score(y_test, y_pred)"
      ],
      "execution_count": 511,
      "outputs": [
        {
          "output_type": "stream",
          "text": [
            "[[396  12]\n",
            " [ 19 381]]\n"
          ],
          "name": "stdout"
        },
        {
          "output_type": "execute_result",
          "data": {
            "text/plain": [
              "0.9616336633663366"
            ]
          },
          "metadata": {
            "tags": []
          },
          "execution_count": 511
        }
      ]
    },
    {
      "cell_type": "markdown",
      "metadata": {
        "id": "ptFu38xBdTtv"
      },
      "source": [
        "## Random Forest using GridSearchCV "
      ]
    },
    {
      "cell_type": "code",
      "metadata": {
        "colab": {
          "base_uri": "https://localhost:8080/"
        },
        "id": "XVw-lI73CpA7",
        "outputId": "ad7a7f1f-84e4-4c80-c6b6-ae9aaf941ba5"
      },
      "source": [
        "\n",
        "from sklearn.ensemble import RandomForestClassifier\n",
        "from sklearn.model_selection import GridSearchCV,StratifiedKFold\n",
        "\n",
        "model_rc = RandomForestClassifier()\n",
        "\n",
        "parameters = {'n_estimators': [1000,1100,1200]       \n",
        "              }\n",
        "\n",
        "\n",
        "clf = GridSearchCV(model_rc, parameters, n_jobs = 4,\n",
        "                   cv=StratifiedKFold(n_splits=2), \n",
        "                   scoring='accuracy',\n",
        "                   verbose=2, refit=True)\n",
        "\n",
        "clf.fit(X,y)\n",
        "print(clf.best_score_)\n",
        "print(clf.best_params_)"
      ],
      "execution_count": 530,
      "outputs": [
        {
          "output_type": "stream",
          "text": [
            "Fitting 2 folds for each of 3 candidates, totalling 6 fits\n"
          ],
          "name": "stdout"
        },
        {
          "output_type": "stream",
          "text": [
            "[Parallel(n_jobs=4)]: Using backend LokyBackend with 4 concurrent workers.\n",
            "[Parallel(n_jobs=4)]: Done   3 out of   6 | elapsed:   11.1s remaining:   11.1s\n",
            "[Parallel(n_jobs=4)]: Done   6 out of   6 | elapsed:   17.1s finished\n"
          ],
          "name": "stderr"
        },
        {
          "output_type": "stream",
          "text": [
            "0.9524402958809054\n",
            "{'n_estimators': 1200}\n"
          ],
          "name": "stdout"
        }
      ]
    },
    {
      "cell_type": "code",
      "metadata": {
        "colab": {
          "base_uri": "https://localhost:8080/"
        },
        "id": "bBbiS-g8oFxg",
        "outputId": "fbe59d30-4c5b-400b-d73c-c8bef4dd49bd"
      },
      "source": [
        "print(clf.best_score_)\n",
        "print(clf.best_params_)"
      ],
      "execution_count": 531,
      "outputs": [
        {
          "output_type": "stream",
          "text": [
            "0.9524402958809054\n",
            "{'n_estimators': 1200}\n"
          ],
          "name": "stdout"
        }
      ]
    },
    {
      "cell_type": "markdown",
      "metadata": {
        "id": "Yhw_q1wodH3_"
      },
      "source": [
        "## Training the Random Forest Model again using the best Parameters found from Grid search CV"
      ]
    },
    {
      "cell_type": "code",
      "metadata": {
        "colab": {
          "base_uri": "https://localhost:8080/"
        },
        "id": "5uG4excdEhRK",
        "outputId": "d2795a0d-2819-42d9-fca3-322d4b29df68"
      },
      "source": [
        "from sklearn.ensemble import RandomForestClassifier\n",
        "\n",
        "model_RF = RandomForestClassifier(n_estimators =1200)\n",
        "# Add silent=True to avoid printing out updates with each cycle\n",
        "model_RF.fit(X_train, y_train)"
      ],
      "execution_count": 535,
      "outputs": [
        {
          "output_type": "execute_result",
          "data": {
            "text/plain": [
              "RandomForestClassifier(bootstrap=True, ccp_alpha=0.0, class_weight=None,\n",
              "                       criterion='gini', max_depth=None, max_features='auto',\n",
              "                       max_leaf_nodes=None, max_samples=None,\n",
              "                       min_impurity_decrease=0.0, min_impurity_split=None,\n",
              "                       min_samples_leaf=1, min_samples_split=2,\n",
              "                       min_weight_fraction_leaf=0.0, n_estimators=1200,\n",
              "                       n_jobs=None, oob_score=False, random_state=None,\n",
              "                       verbose=0, warm_start=False)"
            ]
          },
          "metadata": {
            "tags": []
          },
          "execution_count": 535
        }
      ]
    },
    {
      "cell_type": "code",
      "metadata": {
        "colab": {
          "base_uri": "https://localhost:8080/"
        },
        "id": "fJ4zzCEein3f",
        "outputId": "4c4ec07f-7c30-474c-bde2-df3c4e413ca8"
      },
      "source": [
        "y_pred = model_RF.predict(X_test)\n",
        "print(np.concatenate((y_pred.reshape(len(y_pred),1), y_test.reshape(len(y_test),1)),1))"
      ],
      "execution_count": 536,
      "outputs": [
        {
          "output_type": "stream",
          "text": [
            "[[1 1]\n",
            " [1 1]\n",
            " [0 0]\n",
            " ...\n",
            " [0 0]\n",
            " [1 1]\n",
            " [0 0]]\n"
          ],
          "name": "stdout"
        }
      ]
    },
    {
      "cell_type": "code",
      "metadata": {
        "colab": {
          "base_uri": "https://localhost:8080/"
        },
        "id": "tehkDgolEuX8",
        "outputId": "7b270d46-bd0f-40db-ecd4-11d0060c9f4e"
      },
      "source": [
        "from sklearn.metrics import confusion_matrix, accuracy_score\n",
        "cm = confusion_matrix(y_test, y_pred)\n",
        "print(cm)\n",
        "accuracy_score(y_test, y_pred)"
      ],
      "execution_count": 537,
      "outputs": [
        {
          "output_type": "stream",
          "text": [
            "[[397  11]\n",
            " [ 19 381]]\n"
          ],
          "name": "stdout"
        },
        {
          "output_type": "execute_result",
          "data": {
            "text/plain": [
              "0.9628712871287128"
            ]
          },
          "metadata": {
            "tags": []
          },
          "execution_count": 537
        }
      ]
    },
    {
      "cell_type": "code",
      "metadata": {
        "colab": {
          "base_uri": "https://localhost:8080/"
        },
        "id": "i3wNV2zhEwi0",
        "outputId": "2af31db2-da96-4b7f-daed-a82d619870aa"
      },
      "source": [
        "predictions_RF = model_RF.predict(X_test)\n",
        "from sklearn.metrics import mean_absolute_error, accuracy_score, f1_score, recall_score, precision_score\n",
        "mae = mean_absolute_error(y_test, predictions_RF)\n",
        "acc = accuracy_score(y_test, predictions_RF)\n",
        "f1_score = f1_score(y_test, predictions_RF,average='weighted')\n",
        "recall = recall_score(y_test, predictions_RF,average='weighted')\n",
        "precision = precision_score(y_test, predictions_RF,average='weighted')\n",
        "print(\"Mean Absolute Error : \",mae)\n",
        "print(\"Accuracy: \",acc)\n",
        "print(\"Recall: \",recall)\n",
        "print(\"Precision: \",precision)\n",
        "print(\"F1-score: \",f1_score)"
      ],
      "execution_count": 538,
      "outputs": [
        {
          "output_type": "stream",
          "text": [
            "Mean Absolute Error :  0.03712871287128713\n",
            "Accuracy:  0.9628712871287128\n",
            "Recall:  0.9628712871287128\n",
            "Precision:  0.96304566190528\n",
            "F1-score:  0.9628640048470867\n"
          ],
          "name": "stdout"
        }
      ]
    },
    {
      "cell_type": "markdown",
      "metadata": {
        "id": "Mc_H8BqNcX2-"
      },
      "source": [
        "## XG Boost Classifier"
      ]
    },
    {
      "cell_type": "code",
      "metadata": {
        "id": "G6hLv7uHE96N",
        "colab": {
          "base_uri": "https://localhost:8080/"
        },
        "outputId": "87118112-bc4c-496b-f8be-0bbc7a52ff76"
      },
      "source": [
        "from xgboost import XGBClassifier\n",
        "model_XG = XGBClassifier()\n",
        "model_XG.fit(X_train, y_train, verbose=2)"
      ],
      "execution_count": 517,
      "outputs": [
        {
          "output_type": "execute_result",
          "data": {
            "text/plain": [
              "XGBClassifier(base_score=0.5, booster='gbtree', colsample_bylevel=1,\n",
              "              colsample_bynode=1, colsample_bytree=1, gamma=0,\n",
              "              learning_rate=0.1, max_delta_step=0, max_depth=3,\n",
              "              min_child_weight=1, missing=None, n_estimators=100, n_jobs=1,\n",
              "              nthread=None, objective='binary:logistic', random_state=0,\n",
              "              reg_alpha=0, reg_lambda=1, scale_pos_weight=1, seed=None,\n",
              "              silent=None, subsample=1, verbosity=1)"
            ]
          },
          "metadata": {
            "tags": []
          },
          "execution_count": 517
        }
      ]
    },
    {
      "cell_type": "code",
      "metadata": {
        "colab": {
          "base_uri": "https://localhost:8080/"
        },
        "id": "WY3EqCwKizDU",
        "outputId": "f6fef777-d110-48a6-b3c5-9a96bbd2ed95"
      },
      "source": [
        "y_pred = model_XG.predict(X_test)\n",
        "print(np.concatenate((y_pred.reshape(len(y_pred),1), y_test.reshape(len(y_test),1)),1))"
      ],
      "execution_count": 518,
      "outputs": [
        {
          "output_type": "stream",
          "text": [
            "[[1 1]\n",
            " [1 1]\n",
            " [0 0]\n",
            " ...\n",
            " [0 0]\n",
            " [1 1]\n",
            " [0 0]]\n"
          ],
          "name": "stdout"
        }
      ]
    },
    {
      "cell_type": "code",
      "metadata": {
        "colab": {
          "base_uri": "https://localhost:8080/"
        },
        "id": "9bvOCWCYSTOp",
        "outputId": "f5aa1e2e-a64a-4c03-b416-7acd5d518558"
      },
      "source": [
        "from sklearn.metrics import confusion_matrix, accuracy_score\n",
        "cm = confusion_matrix(y_test, y_pred)\n",
        "print(cm)\n",
        "accuracy_score(y_test, y_pred)"
      ],
      "execution_count": 519,
      "outputs": [
        {
          "output_type": "stream",
          "text": [
            "[[399   9]\n",
            " [ 16 384]]\n"
          ],
          "name": "stdout"
        },
        {
          "output_type": "execute_result",
          "data": {
            "text/plain": [
              "0.969059405940594"
            ]
          },
          "metadata": {
            "tags": []
          },
          "execution_count": 519
        }
      ]
    },
    {
      "cell_type": "markdown",
      "metadata": {
        "id": "Y9V7pKj-c-49"
      },
      "source": [
        "## XGBoost using GridSearchCV"
      ]
    },
    {
      "cell_type": "code",
      "metadata": {
        "colab": {
          "base_uri": "https://localhost:8080/"
        },
        "id": "q5Uf61xXSk4i",
        "outputId": "90fe1be4-73a1-4742-d681-34c913f0675a"
      },
      "source": [
        "from xgboost import XGBClassifier\n",
        "from sklearn.model_selection import GridSearchCV,StratifiedKFold\n",
        "\n",
        "xgb_model = XGBClassifier()\n",
        "\n",
        "\n",
        "parameters = {'learning_rate': [0.1], #so called `eta` value\n",
        "              'n_estimators': [650,700,750],  #number of trees, change it to 1000 for better results\n",
        "              'max_depth': [3,4,5]\n",
        "              }\n",
        "\n",
        "\n",
        "clf = GridSearchCV(xgb_model, parameters, n_jobs = 6,\n",
        "                   cv=StratifiedKFold(n_splits=2), \n",
        "                   scoring='accuracy',\n",
        "                   verbose=2, refit=True)\n",
        "\n",
        "clf.fit(X,y)"
      ],
      "execution_count": 520,
      "outputs": [
        {
          "output_type": "stream",
          "text": [
            "Fitting 2 folds for each of 9 candidates, totalling 18 fits\n"
          ],
          "name": "stdout"
        },
        {
          "output_type": "stream",
          "text": [
            "[Parallel(n_jobs=6)]: Using backend LokyBackend with 6 concurrent workers.\n",
            "[Parallel(n_jobs=6)]: Done  18 out of  18 | elapsed:   14.3s finished\n"
          ],
          "name": "stderr"
        },
        {
          "output_type": "execute_result",
          "data": {
            "text/plain": [
              "GridSearchCV(cv=StratifiedKFold(n_splits=2, random_state=None, shuffle=False),\n",
              "             error_score=nan,\n",
              "             estimator=XGBClassifier(base_score=0.5, booster='gbtree',\n",
              "                                     colsample_bylevel=1, colsample_bynode=1,\n",
              "                                     colsample_bytree=1, gamma=0,\n",
              "                                     learning_rate=0.1, max_delta_step=0,\n",
              "                                     max_depth=3, min_child_weight=1,\n",
              "                                     missing=None, n_estimators=100, n_jobs=1,\n",
              "                                     nthread=None, objective='binary:logistic',\n",
              "                                     random_state=0, reg_alpha=0, reg_lambda=1,\n",
              "                                     scale_pos_weight=1, seed=None, silent=None,\n",
              "                                     subsample=1, verbosity=1),\n",
              "             iid='deprecated', n_jobs=6,\n",
              "             param_grid={'learning_rate': [0.1], 'max_depth': [3, 4, 5],\n",
              "                         'n_estimators': [650, 700, 750]},\n",
              "             pre_dispatch='2*n_jobs', refit=True, return_train_score=False,\n",
              "             scoring='accuracy', verbose=2)"
            ]
          },
          "metadata": {
            "tags": []
          },
          "execution_count": 520
        }
      ]
    },
    {
      "cell_type": "code",
      "metadata": {
        "colab": {
          "base_uri": "https://localhost:8080/"
        },
        "id": "Ode7-4fXTAKp",
        "outputId": "53f4e4bd-074c-4f33-a387-a19a0e308744"
      },
      "source": [
        "print(clf.best_score_)\n",
        "print(clf.best_params_)"
      ],
      "execution_count": 521,
      "outputs": [
        {
          "output_type": "stream",
          "text": [
            "0.971513437016333\n",
            "{'learning_rate': 0.1, 'max_depth': 3, 'n_estimators': 700}\n"
          ],
          "name": "stdout"
        }
      ]
    },
    {
      "cell_type": "markdown",
      "metadata": {
        "id": "mV9qf7F7crd9"
      },
      "source": [
        "## Training the XGBoost model again using the best Parameters found from Grid search CV"
      ]
    },
    {
      "cell_type": "code",
      "metadata": {
        "colab": {
          "base_uri": "https://localhost:8080/"
        },
        "id": "sxBVaFzPTXh5",
        "outputId": "b8f99db6-1e4a-4255-bf6e-710a3ca20e9a"
      },
      "source": [
        "from xgboost import XGBClassifier\n",
        "model_XG = XGBClassifier(learning_rate= 0.1, max_depth= 3, n_estimators= 700)\n",
        "\n",
        "model_XG.fit(X_train, y_train, verbose=2)"
      ],
      "execution_count": 522,
      "outputs": [
        {
          "output_type": "execute_result",
          "data": {
            "text/plain": [
              "XGBClassifier(base_score=0.5, booster='gbtree', colsample_bylevel=1,\n",
              "              colsample_bynode=1, colsample_bytree=1, gamma=0,\n",
              "              learning_rate=0.1, max_delta_step=0, max_depth=3,\n",
              "              min_child_weight=1, missing=None, n_estimators=700, n_jobs=1,\n",
              "              nthread=None, objective='binary:logistic', random_state=0,\n",
              "              reg_alpha=0, reg_lambda=1, scale_pos_weight=1, seed=None,\n",
              "              silent=None, subsample=1, verbosity=1)"
            ]
          },
          "metadata": {
            "tags": []
          },
          "execution_count": 522
        }
      ]
    },
    {
      "cell_type": "code",
      "metadata": {
        "colab": {
          "base_uri": "https://localhost:8080/"
        },
        "id": "8hNXTEwTjNAc",
        "outputId": "daea7a92-d581-4bcd-cda5-81b6fc0ebf2f"
      },
      "source": [
        "y_pred = model_XG.predict(X_test)\n",
        "print(np.concatenate((y_pred.reshape(len(y_pred),1), y_test.reshape(len(y_test),1)),1))"
      ],
      "execution_count": 523,
      "outputs": [
        {
          "output_type": "stream",
          "text": [
            "[[1 1]\n",
            " [1 1]\n",
            " [0 0]\n",
            " ...\n",
            " [0 0]\n",
            " [1 1]\n",
            " [0 0]]\n"
          ],
          "name": "stdout"
        }
      ]
    },
    {
      "cell_type": "code",
      "metadata": {
        "colab": {
          "base_uri": "https://localhost:8080/"
        },
        "id": "xffiu3r9jRfh",
        "outputId": "f3271082-15db-42ef-ede4-d83d3290bf3e"
      },
      "source": [
        "from sklearn.metrics import confusion_matrix, accuracy_score\n",
        "cm = confusion_matrix(y_test, y_pred)\n",
        "print(cm)\n",
        "accuracy_score(y_test, y_pred)"
      ],
      "execution_count": 524,
      "outputs": [
        {
          "output_type": "stream",
          "text": [
            "[[403   5]\n",
            " [  9 391]]\n"
          ],
          "name": "stdout"
        },
        {
          "output_type": "execute_result",
          "data": {
            "text/plain": [
              "0.9826732673267327"
            ]
          },
          "metadata": {
            "tags": []
          },
          "execution_count": 524
        }
      ]
    },
    {
      "cell_type": "code",
      "metadata": {
        "colab": {
          "base_uri": "https://localhost:8080/"
        },
        "id": "XDkwPnIyUsqR",
        "outputId": "36dfd224-b49e-4537-a33e-b6825417020e"
      },
      "source": [
        "predictions_XG = model_XG.predict(X_test)\n",
        "from sklearn.metrics import mean_absolute_error, accuracy_score, f1_score, recall_score, precision_score\n",
        "mae = mean_absolute_error(y_test, predictions_XG)\n",
        "acc = accuracy_score(y_test, predictions_XG)\n",
        "f1_score = f1_score(y_test, predictions_XG,average='weighted')\n",
        "recall = recall_score(y_test, predictions_XG,average='weighted')\n",
        "precision = precision_score(y_test, predictions_XG,average='weighted')\n",
        "print(\"Mean Absolute Error : \",mae)\n",
        "print(\"Accuracy: \",acc)\n",
        "print(\"Recall: \",recall)\n",
        "print(\"Precision: \",precision)\n",
        "print(\"F1-score: \",f1_score)"
      ],
      "execution_count": 525,
      "outputs": [
        {
          "output_type": "stream",
          "text": [
            "Mean Absolute Error :  0.017326732673267328\n",
            "Accuracy:  0.9826732673267327\n",
            "Recall:  0.9826732673267327\n",
            "Precision:  0.9827189029582569\n",
            "F1-score:  0.9826719931461217\n"
          ],
          "name": "stdout"
        }
      ]
    },
    {
      "cell_type": "markdown",
      "metadata": {
        "id": "aNnanlw-dt1s"
      },
      "source": [
        "## After analysis using Naive bayes (accuracy = 86.6% ),ExtraTrees Classifier(accuracy = 94.1% ), RandomForest Classifier (accuracy = 96.2% ) and XGBoost Classifier (accuracy = 98.2% ),it can be inferred that XGBoost is the best model because it provides the best accuracy and has improved the prediction of the current model,Naive Bayes which was used in the Research Paper."
      ]
    },
    {
      "cell_type": "code",
      "metadata": {
        "id": "Jcx7EH0_e3r3"
      },
      "source": [
        ""
      ],
      "execution_count": 525,
      "outputs": []
    }
  ]
}